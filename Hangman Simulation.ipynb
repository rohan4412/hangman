{
 "cells": [
  {
   "cell_type": "code",
   "execution_count": 1,
   "id": "3aa55c03",
   "metadata": {},
   "outputs": [],
   "source": [
    "import random\n",
    "import time"
   ]
  },
  {
   "cell_type": "code",
   "execution_count": 2,
   "id": "6f65df22",
   "metadata": {},
   "outputs": [],
   "source": [
    "#randomword\n",
    "#source: https://inventwithpython.com/invent4thed/chapter8.html\n",
    "\n",
    "dictionary = 'words for hangman brunch ant baboon badger bat bear beaver camel cat clam cobra cougar coyote crow deer dog donkey duck eagle ferret fox frog goat goose hawk lion lizard llama mole monkey moose mouse mule newt otter owl panda parrot pigeon python rabbit ram rat raven rhino salmon seal shark sheep skunk sloth snake spider stork swan tiger toad trout turkey turtle weasel whale wolf wombat zebra'.split()\n",
    "\n",
    "def ChooseWord(dictionary):\n",
    "    return dictionary[random.randint(0, len(dictionary) - 1)]"
   ]
  },
  {
   "cell_type": "code",
   "execution_count": 3,
   "id": "5c5908c2",
   "metadata": {},
   "outputs": [
    {
     "name": "stdout",
     "output_type": "stream",
     "text": [
      "duck\n"
     ]
    }
   ],
   "source": [
    "word = ChooseWord(dictionary)\n",
    "print(word)"
   ]
  },
  {
   "cell_type": "code",
   "execution_count": 4,
   "id": "e2a6ac48",
   "metadata": {},
   "outputs": [],
   "source": [
    "def GuessingGame(word):\n",
    "    spaces = len(word)\n",
    "    guessplane = \"-\"*spaces\n",
    "    lettersfound = 0\n",
    "    for i in range(0,10):\n",
    "        if (lettersfound) >= spaces:\n",
    "            print(\"You win!\")\n",
    "            break\n",
    "        else:\n",
    "            vip = list(guessplane)\n",
    "            print(guessplane)\n",
    "            print(\"input guess:\")\n",
    "            guess = input()\n",
    "            if guess in word:\n",
    "                placement = [x for x, v in enumerate(word) if v == guess] #https://stackoverflow.com/questions/1228299/changing-one-character-in-a-string\n",
    "                for i in placement:\n",
    "                    vip[i] = guess\n",
    "                    lettersfound = lettersfound+1\n",
    "                    print(lettersfound)\n",
    "                    print(spaces)\n",
    "            guessplane = \"\".join(vip)"
   ]
  },
  {
   "cell_type": "code",
   "execution_count": 5,
   "id": "2e2546db",
   "metadata": {},
   "outputs": [
    {
     "name": "stdout",
     "output_type": "stream",
     "text": [
      "----\n",
      "input guess:\n",
      "d\n",
      "1\n",
      "4\n",
      "d---\n",
      "input guess:\n",
      "u\n",
      "2\n",
      "4\n",
      "du--\n",
      "input guess:\n",
      "c\n",
      "3\n",
      "4\n",
      "duc-\n",
      "input guess:\n",
      "k\n",
      "4\n",
      "4\n",
      "You win!\n"
     ]
    }
   ],
   "source": [
    "GuessingGame(word)"
   ]
  },
  {
   "cell_type": "code",
   "execution_count": null,
   "id": "31b4381f",
   "metadata": {},
   "outputs": [],
   "source": []
  }
 ],
 "metadata": {
  "kernelspec": {
   "display_name": "Python 3 (ipykernel)",
   "language": "python",
   "name": "python3"
  },
  "language_info": {
   "codemirror_mode": {
    "name": "ipython",
    "version": 3
   },
   "file_extension": ".py",
   "mimetype": "text/x-python",
   "name": "python",
   "nbconvert_exporter": "python",
   "pygments_lexer": "ipython3",
   "version": "3.9.12"
  }
 },
 "nbformat": 4,
 "nbformat_minor": 5
}
